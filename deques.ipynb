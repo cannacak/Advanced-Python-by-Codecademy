{
 "cells": [
  {
   "cell_type": "code",
   "execution_count": null,
   "metadata": {},
   "outputs": [],
   "source": [
    "class Deque:\n",
    "  def __init__(self):\n",
    "    self.elements = []\n",
    "  def add_first(self, item):\n",
    "    self.elements.append(item)\n",
    "  def add_last(self, item):\n",
    "    self.elements.insert(0, item)\n",
    "  def remove_first(self):\n",
    "    item = self.elements.pop()\n",
    "    return item\n",
    "  def remove_last(self):\n",
    "    item = self.elements.pop(0)\n",
    "    return item\n",
    "  def is_empty(self):\n",
    "    # Implement here (remove pass)\n",
    "    return True if len(self.elements) == 0 else False\n",
    "  def size(self):\n",
    "     # Implement here (remove pass)\n",
    "    return len(self.elements)\n",
    "  def peek_first(self):\n",
    "    return self.elements[-1]\n",
    "  def peek_last(self):\n",
    "    return self.elements[0]\n",
    "  def display_deque(self):\n",
    "    print('\\t | \\t'.join(str(item) for item in self.elements))\n",
    "\n",
    "deque = Deque()\n",
    "deque.add_first(5)\n",
    "deque.add_first(20)\n",
    "deque.add_last(42)\n",
    "popped_front = deque.remove_first()\n",
    "print(\"Popped value: \" + str(popped_front))\n",
    "popped_rear = deque.remove_last()\n",
    "print(\"Popped value: \" + str(popped_rear))\n",
    "# Test deque method below\n",
    "print(f\"is empty:{deque.is_empty()}\")\n",
    "print(f\"size:{deque.size()}\")\n",
    "deque.remove_first()\n",
    "deque.display_deque()"
   ]
  }
 ],
 "metadata": {
  "kernelspec": {
   "display_name": "Python 3",
   "language": "python",
   "name": "python3"
  },
  "language_info": {
   "name": "python",
   "version": "3.10.5 (tags/v3.10.5:f377153, Jun  6 2022, 16:14:13) [MSC v.1929 64 bit (AMD64)]"
  },
  "orig_nbformat": 4,
  "vscode": {
   "interpreter": {
    "hash": "1107856a28c3b984d4f9e4c91f4dff2419390e41c479fe34d36061adafc9e02e"
   }
  }
 },
 "nbformat": 4,
 "nbformat_minor": 2
}
