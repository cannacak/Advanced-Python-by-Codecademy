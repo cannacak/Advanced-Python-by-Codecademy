{
 "cells": [
  {
   "cell_type": "code",
   "execution_count": null,
   "metadata": {},
   "outputs": [],
   "source": [
    "import time\n",
    "def sequential():\n",
    "  s = time.perf_counter()\n",
    "  print(\"Codecademy\")\n",
    "  time.sleep(2)\n",
    "  print(\"says hello!\")\n",
    "  elapsed = time.perf_counter() - s\n",
    "  print(\"Sequential Programming Elapsed Time: \" + str(elapsed) + \" seconds\")\n",
    "\n",
    "sequential()"
   ]
  },
  {
   "cell_type": "code",
   "execution_count": null,
   "metadata": {},
   "outputs": [],
   "source": [
    "import time\n",
    "import threading\n",
    "def greeting_with_sleep(string):\n",
    "  s = time.perf_counter()\n",
    "  print(string)\n",
    "  time.sleep(2)\n",
    "  print(\"says hello!\")\n",
    "  elapsed = time.perf_counter() - s\n",
    "  print(\"Sequential Programming Elapsed Time: \" + str(elapsed) + \" seconds\")\n",
    "\n",
    "greeting_with_sleep('Codecademy')\n",
    "\n",
    "t = threading.Thread(target=greeting_with_sleep, args=('Codecademy',))\n",
    "t.start()\n"
   ]
  },
  {
   "cell_type": "code",
   "execution_count": null,
   "metadata": {},
   "outputs": [],
   "source": [
    "import time\n",
    "import threading\n",
    "def greeting_with_sleep(string):\n",
    "  print(string)\n",
    "  time.sleep(2)\n",
    "  print(\"says hello!\")\n",
    "\n",
    "\n",
    "def main_threading():\n",
    "  s = time.perf_counter()\n",
    "  greetings = ['Codecademy', 'Chelsea', 'Hisham', 'Ashley']\n",
    "  # your code goes here\n",
    "  for i in range(len(greetings)):\n",
    "  \n",
    "    t = threading.Thread(target = greeting_with_sleep, args = (greetings[i],))\n",
    "    t.start()\n",
    "    \n",
    "    elapsed = time.perf_counter() - s\n",
    "    print(\"Threading Elapsed Time: \" + str(elapsed) + \" seconds\")\n",
    "\n",
    "main_threading()\n",
    "\n"
   ]
  },
  {
   "cell_type": "code",
   "execution_count": null,
   "metadata": {},
   "outputs": [],
   "source": [
    "import time\n",
    "import threading\n",
    "def greeting_with_sleep(string):\n",
    "  print(string)\n",
    "  time.sleep(2)\n",
    "  print(string + \" says hello!\")\n",
    "\n",
    "\n",
    "def main_threading():\n",
    "  s = time.perf_counter()\n",
    "  threads = []\n",
    "  greetings = ['Codecademy', 'Chelsea', 'Hisham', 'Ashley']\n",
    "  for i in range(len(greetings)):\n",
    "    t = threading.Thread(target=greeting_with_sleep, args=(greetings[i],)) \n",
    "    t.start()\n",
    "    # add append code here\n",
    "    threads.append(t)\n",
    "  # add join code here\n",
    "  for t in threads:\n",
    "\n",
    "    t.join()\n",
    "\n",
    "  elapsed = time.perf_counter() - s\n",
    "  print(\"Threading Elapsed Time: \" + str(elapsed) + \" seconds\")\n",
    "\n",
    "main_threading()\n"
   ]
  },
  {
   "cell_type": "code",
   "execution_count": null,
   "metadata": {},
   "outputs": [],
   "source": [
    "import time\n",
    "import asyncio\n",
    "\n",
    "async def greeting_with_sleep_async(string):\n",
    "  s = time.perf_counter()\n",
    "  print(string)\n",
    "  await asyncio.sleep(2)\n",
    "  print(\"says hello!\")\n",
    "  elapsed = time.perf_counter() - s\n",
    "  print(\"Asyncio Elapsed Time: \" + str(elapsed) + \" seconds\")\n",
    "\n",
    "loop = asyncio.get_event_loop()\n",
    "loop.run_until_complete(greeting_with_sleep_async('Codecademy'))\n",
    "\n"
   ]
  },
  {
   "cell_type": "code",
   "execution_count": null,
   "metadata": {},
   "outputs": [],
   "source": [
    "import time\n",
    "import asyncio\n",
    "\n",
    "async def greeting_with_sleep_async(string):\n",
    "  print(string)\n",
    "  await asyncio.sleep(2)\n",
    "  print(string + \" says hello!\")\n",
    "\n",
    "\n",
    "async def main_async():\n",
    "  s = time.perf_counter()\n",
    "  greetings = [greeting_with_sleep_async('Codecademy'), greeting_with_sleep_async('Chelsea'), greeting_with_sleep_async('Hisham'), greeting_with_sleep_async('Ashley')]\n",
    "  # your code goes here\n",
    "  await asyncio.gather(*greetings)\n",
    "\n",
    "  elapsed = time.perf_counter() - s\n",
    "  print(\"Asyncio Elapsed Time: \" + str(elapsed) + \" seconds\")\n",
    "\n",
    "\n",
    "\n",
    "loop = asyncio.get_event_loop()\n",
    "loop.run_until_complete(main_async())\n"
   ]
  },
  {
   "cell_type": "code",
   "execution_count": null,
   "metadata": {},
   "outputs": [],
   "source": [
    "import time\n",
    "import multiprocessing\n",
    "\n",
    "def greeting_with_sleep(string):\n",
    "  s = time.perf_counter()\n",
    "  print(string)\n",
    "  time.sleep(2)\n",
    "  print(\"says hello!\")\n",
    "  elapsed = time.perf_counter() - s\n",
    "  print(\"Multiprocessing Elapsed Time: \" + str(elapsed) + \" seconds\")\n",
    "\n",
    "p = multiprocessing.Process(target = greeting_with_sleep, args = ('Codecademy',))\n",
    "\n",
    "p.start()\n",
    "\n"
   ]
  },
  {
   "cell_type": "code",
   "execution_count": null,
   "metadata": {},
   "outputs": [],
   "source": [
    "import time\n",
    "import multiprocessing\n",
    "\n",
    "def greeting_with_sleep(string):\n",
    "  print(string)\n",
    "  time.sleep(2)\n",
    "  print(string + \" says hello!\")\n",
    "\n",
    "\n",
    "def main_multiprocessing():\n",
    "  s = time.perf_counter()\n",
    "  processes = []\n",
    "  greetings = ['Codecademy', 'Chelsea', 'Hisham', 'Ashley']\n",
    "  # add your code here\n",
    "  for i in range(len(greetings)):\n",
    "\n",
    "    p = multiprocessing.Process(target = greeting_with_sleep, args = (greetings[i],))\n",
    "    processes.append(p)\n",
    "    p.start()\n",
    "    for p in processes:\n",
    "      p.join()\n",
    "  elapsed = time.perf_counter() - s\n",
    "  print(\"Multiprocessing Elapsed Time: \" + str(elapsed) + \" seconds\")\n",
    "\n",
    "  \n",
    "\n",
    "main_multiprocessing()\n"
   ]
  }
 ],
 "metadata": {
  "kernelspec": {
   "display_name": "Python 3",
   "language": "python",
   "name": "python3"
  },
  "language_info": {
   "name": "python",
   "version": "3.10.5 (tags/v3.10.5:f377153, Jun  6 2022, 16:14:13) [MSC v.1929 64 bit (AMD64)]"
  },
  "orig_nbformat": 4,
  "vscode": {
   "interpreter": {
    "hash": "1107856a28c3b984d4f9e4c91f4dff2419390e41c479fe34d36061adafc9e02e"
   }
  }
 },
 "nbformat": 4,
 "nbformat_minor": 2
}
