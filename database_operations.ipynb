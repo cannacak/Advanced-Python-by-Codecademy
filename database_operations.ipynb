{
 "cells": [
  {
   "cell_type": "code",
   "execution_count": null,
   "metadata": {},
   "outputs": [],
   "source": [
    "from start import helper\n",
    "helper()\n",
    "import sqlite3\n",
    "\n",
    "con = sqlite3.connect(\"titanic.db\")\n",
    "curs = con.cursor()\n",
    "\n",
    "# Create table named new_table\n",
    "curs.execute(\"\"\" \n",
    "\n",
    "        CREATE TABLE new_table (\n",
    "\n",
    "            name TEXT,\n",
    "            age INTEGER,\n",
    "            username TEXT,\n",
    "            pay_rate REAL\n",
    "\n",
    "\n",
    "        )\n",
    "\"\"\")\n",
    "# Insert row of values into new_table\n",
    "curs.execute(\"\"\" INSERT INTO new_table VALUES ('Bob Peterson', 34, 'bob1234', 40.00)\"\"\")"
   ]
  },
  {
   "cell_type": "code",
   "execution_count": null,
   "metadata": {},
   "outputs": [],
   "source": [
    "from start import helper\n",
    "helper()\n",
    "import sqlite3\n",
    "\n",
    "con = sqlite3.connect(\"titanic.db\")\n",
    "curs = con.cursor()\n",
    "\n",
    "# Here is the new_rows object\n",
    "new_rows = [('Anne Smith', 33, 'AS896', 25.00),\n",
    "            ('Billy Roberts', 29, 'bill5Rob', 30.00),\n",
    "            ('Jason Johnson', 48, 'JasonJ77', 40.00),\n",
    "            ('Tim Trunk', 51, 'Timtrunk4', 40.00),\n",
    "            ('Sarah Fall',19, 'SFall232', 25.00)\n",
    "            ]\n",
    "\n",
    "# Insert new_rows into the new_table table\n",
    "curs.executemany(\"\"\" INSERT INTO new_table VALUES (?,?,?,?) \"\"\",new_rows)\n",
    "\n",
    "\n",
    "\n",
    "\n",
    "\n",
    "\n"
   ]
  },
  {
   "cell_type": "code",
   "execution_count": null,
   "metadata": {},
   "outputs": [],
   "source": [
    "import sqlite3\n",
    "\n",
    "con = sqlite3.connect(\"titanic.db\")\n",
    "curs = con.cursor()\n",
    "\n",
    "# Pull the first row from the titanice data table (print to view output)\n",
    "one = curs.execute(\"SELECT * FROM titanic\").fetchone()\n",
    "# Pull the first ten rows from the titanice data table (print to view output)\n",
    "ten = curs.execute(\"SELECT * FROM titanic\").fetchmany(10)\n",
    "#print(ten)\n",
    "# Pull every row from the titanice data table (print to view output)\n",
    "all_rows = curs.execute(\"SELECT * FROM titanic\").fetchall()\n",
    "#print(all_rows)\n",
    "# Pull every row from the titanice data table for those who survived (print to view output)\n",
    "all_survived = curs.execute('''SELECT * FROM titanic WHERE Survived = 1;''').fetchall()\n",
    "print(all_survived)"
   ]
  },
  {
   "cell_type": "code",
   "execution_count": null,
   "metadata": {},
   "outputs": [],
   "source": [
    "import sqlite3\n",
    "from functools import reduce\n",
    "con = sqlite3.connect(\"titanic.db\")\n",
    "curs = con.cursor()\n",
    "\n",
    "# Pull the Age records from the titanic table using .fetchall() method and save as age\n",
    "age = curs.execute(\"SELECT Age FROM titanic;\").fetchall()\n",
    "\n",
    "# for loop that calculates the average\n",
    "\n",
    "sum =  len(tuple(filter(lambda q : q < 18,map(lambda z: z[0],age))))\n",
    "print(sum)\n"
   ]
  }
 ],
 "metadata": {
  "kernelspec": {
   "display_name": "Python 3",
   "language": "python",
   "name": "python3"
  },
  "language_info": {
   "name": "python",
   "version": "3.10.5 (tags/v3.10.5:f377153, Jun  6 2022, 16:14:13) [MSC v.1929 64 bit (AMD64)]"
  },
  "orig_nbformat": 4,
  "vscode": {
   "interpreter": {
    "hash": "1107856a28c3b984d4f9e4c91f4dff2419390e41c479fe34d36061adafc9e02e"
   }
  }
 },
 "nbformat": 4,
 "nbformat_minor": 2
}
