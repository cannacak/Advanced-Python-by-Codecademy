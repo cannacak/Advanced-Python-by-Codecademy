{
 "cells": [
  {
   "cell_type": "code",
   "execution_count": null,
   "metadata": {},
   "outputs": [],
   "source": [
    "from collections import namedtuple\n",
    "\n",
    "#named tuples\n",
    "\n",
    "# Checkpoint 1 code goes here.\n",
    "country = namedtuple(\"country\",[\"name\", \"capital\", \"continent\"])\n",
    "# Checkpoint 2 code goes here.\n",
    "france = country(\"france\",\"paris\",\"europe\")\n",
    "japan = country(\"japan\",\"tokyo\",\"asia\")\n",
    "senegal = country(\"senegal\",\"dakar\",\"africa\")\n",
    "countries = (france,japan,senegal)\n",
    "# Checkpoint 3 code goes here."
   ]
  },
  {
   "cell_type": "code",
   "execution_count": null,
   "metadata": {},
   "outputs": [],
   "source": [
    "#lamda functions\n",
    "\n",
    "\"\"\" \n",
    "def squared(x):\n",
    "  return x * x\n",
    "\n",
    "def cubed(x):\n",
    "  return x*x*x\n",
    "\"\"\"\n",
    "def odd_or_even(n, even_function, odd_function):\n",
    "  if n % 2 == 0:\n",
    "    return even_function(n)\n",
    "  else: \n",
    "    return odd_function(n) \n",
    "\n",
    "square = lambda x: x*x\n",
    "cube = lambda x: x*x*x\n",
    "# Checkpoint 3 code goes here.\n",
    "\n",
    "#print(test) # Uncomment the print function to see the results of Checkpoint 3."
   ]
  },
  {
   "cell_type": "code",
   "execution_count": null,
   "metadata": {},
   "outputs": [],
   "source": [
    "nums = (16, 2, 19, 22, 10, 23, 16, 2, 27, 29, 19, 26, 12, 20, 16, 29, 6, 2, 12, 20)\n",
    "\n",
    "# Checkpoint 1 code goes here.\n",
    "filtered_numbers = filter(lambda x: x % 2 == 0, nums) \n",
    "print(tuple(filtered_numbers))\n",
    "# Checkpoint 2 code goes here.\n",
    "mapped_numbers = map(lambda x: x * 3, nums)\n",
    "print(tuple(mapped_numbers))\n",
    "# Checkpoint 3 code goes here.\n",
    "from functools import reduce\n",
    "sum = reduce(lambda x,y : x + y, nums)\n",
    "print(sum)"
   ]
  },
  {
   "cell_type": "code",
   "execution_count": null,
   "metadata": {},
   "outputs": [],
   "source": [
    "nums = (2, 12, 5, 8, 9, 3, 16, 7, 13, 19, 21, 1, 15, 4, 22, 20, 11)\n",
    "\n",
    "# Checkpoint 1 code goes here.\n",
    "greater_than_10_doubled = map(lambda x: x*2, filter(lambda y : y > 10,nums ))\n",
    "print(tuple(greater_than_10_doubled))\n",
    "# Checkpoint 2 code goes here.\n",
    "functional_way = map(lambda x: x*3,filter(lambda y: y % 3 == 0,nums))\n",
    "print(tuple(functional_way))"
   ]
  },
  {
   "cell_type": "code",
   "execution_count": null,
   "metadata": {},
   "outputs": [],
   "source": [
    "from collections import namedtuple\n",
    "from functools import reduce\n",
    "\n",
    "# Prices are in USD\n",
    "menu_item = namedtuple(\"menu_item\", [\"name\", \"dish_type\", \"price\"])\n",
    "\n",
    "jsp = menu_item(\"Jumbo Shrimp Platter\", \"Appetizer\", 29.95)\n",
    "lc = menu_item(\"Lobster Cake\", \"Appetizer\", 30.95)\n",
    "scb = menu_item(\"Sizzling Canadian Bacon\", \"Appetizer\", 9.95)\n",
    "ccc = menu_item(\"Codecademy Crab Cake\", \"Appetizer\", 32.95)\n",
    "cs = menu_item(\"Caeser Salad\", \"Salad\", 14.95)\n",
    "mgs = menu_item(\"Mixed Green Salad\", \"Salad\", 10.95)\n",
    "cp = menu_item(\"Codecademy Potatoes\", \"Side\", 34.95)\n",
    "mp = menu_item(\"Mashed Potatoes\", \"Side\", 14.95)\n",
    "a = menu_item(\"Asparagus\", \"Side\", 15.95)\n",
    "rs = menu_item(\"Ribeye Steak\", \"Entree\", 75.95)\n",
    "phs = menu_item(\"Porter House Steak\", \"Entree\", 131.95)\n",
    "grs = menu_item(\"Grilled Salmon\", \"Entree\", 36.95)\n",
    "\n",
    "menu = (jsp, lc, scb, ccc, cs, mgs, cp, mp, a, rs, phs, grs)\n",
    "entree = 0\n",
    "least_expensive = 0\n",
    "\n",
    "# Code for Checkpoint 1 goes here.\n",
    "entree = reduce(lambda x,y : x if x.price > y.price else y,filter(lambda x : x.dish_type == 'Entree',menu))\n",
    "print(entree)\n",
    "\n",
    "# Code for Checkpoint 2 goes here.\n",
    "least_expensive = reduce(lambda x,y : x if x.price < y.price else y,filter(lambda x : x.dish_type == 'Side' or x.dish_type == 'Salad',menu))\n",
    "print(least_expensive)"
   ]
  },
  {
   "cell_type": "code",
   "execution_count": null,
   "metadata": {},
   "outputs": [],
   "source": [
    "from functools import reduce\n",
    "\n",
    "fruits = {\"Grape\":(4, 6, 2), \"Lemon\":(7, 3, 1), \"Orange\":(5, 8, 1), \"Apple\":(2, 8, 10), \"Watermelon\":(0, 9, 6)}\n",
    "\n",
    "total_fruits = 0\n",
    "\n",
    "total_fruits = total_fruits = reduce(lambda x, y: x + y, map(lambda q: fruits[q][0] + fruits[q][1] + fruits[q][2] , fruits));\n",
    "\n",
    "print(total_fruits)\n",
    "\n"
   ]
  },
  {
   "cell_type": "code",
   "execution_count": null,
   "metadata": {},
   "outputs": [],
   "source": [
    "from functools import reduce\n",
    "\n",
    "costs = {\"shirt\": (4, 13.00), \"shoes\":(2, 80.00), \"pants\":(3, 100.00), \"socks\":(5, 5.00), \"ties\":(3, 14.00), \"watch\":(1, 145.00)}\n",
    "\n",
    "nums = (24, 6, 7, 16, 8, 2, 3, 11, 21, 20, 22, 23, 19, 12, 1, 4, 17, 9, 25, 15)\n",
    "\n",
    "total = reduce(lambda x, y: x+y, filter(lambda r: r > 150.00, map(lambda q: costs[q][0] * costs[q][1], costs)))\n",
    "\n",
    "print(total)\n",
    "\n",
    "product = -1\n",
    "\n",
    "product = reduce(lambda x, y: x * y, map(lambda z: z + 5, filter(lambda q: q < 10, nums)))\n",
    "\n",
    "print(product)"
   ]
  },
  {
   "cell_type": "code",
   "execution_count": null,
   "metadata": {},
   "outputs": [],
   "source": [
    "import json\n",
    "from collections import namedtuple\n",
    "from functools import reduce\n",
    "\n",
    "city = namedtuple(\"city\", [\"name\", \"country\", \"coordinates\", \"continent\"])\n",
    "\n",
    "with open('cities.json') as json_file:\n",
    "  data = json.load(json_file) \n",
    "\n",
    "cities = map(lambda x: city(x[\"name\"], x[\"country\"], x[\"coordinates\"], x[\"continent\"]), data[\"city\"])\n",
    "\n",
    "# Code for Checkpoint 1 goes here.\n",
    "asia = filter(lambda x: x.continent == 'Asia',cities)\n",
    "asia = tuple(asia)\n",
    "print(asia)\n",
    "\n",
    "west = None\n",
    "\n",
    "# Code for Checkpoint 2 goes here.\n",
    "west = reduce(lambda x, y: x if x.coordinates[1] < y.coordinates[1] else y, asia)\n",
    "\n",
    "print(west)"
   ]
  },
  {
   "cell_type": "code",
   "execution_count": null,
   "metadata": {},
   "outputs": [],
   "source": []
  }
 ],
 "metadata": {
  "kernelspec": {
   "display_name": "Python 3",
   "language": "python",
   "name": "python3"
  },
  "language_info": {
   "name": "python",
   "version": "3.10.5 (tags/v3.10.5:f377153, Jun  6 2022, 16:14:13) [MSC v.1929 64 bit (AMD64)]"
  },
  "orig_nbformat": 4,
  "vscode": {
   "interpreter": {
    "hash": "1107856a28c3b984d4f9e4c91f4dff2419390e41c479fe34d36061adafc9e02e"
   }
  }
 },
 "nbformat": 4,
 "nbformat_minor": 2
}
